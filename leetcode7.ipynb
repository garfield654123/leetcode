{
 "cells": [
  {
   "cell_type": "code",
   "execution_count": null,
   "metadata": {},
   "outputs": [],
   "source": [
    "class Solution(object):\n",
    "    def reverse(self, x):\n",
    "        negative=False\n",
    "        if(x<0):\n",
    "            negative=True\n",
    "        x=abs(x)\n",
    "        for i  in range(1,32):\n",
    "            if(abs(x)<10**i):\n",
    "                break;\n",
    "        y=0\n",
    "        for j in range(0,i):\n",
    "            y=y+int(x/(10**(i-1-j)))*10**(j)\n",
    "            x=x-int(x/(10**(i-1-j)))*10**(i-j-1)\n",
    "        if(negative):\n",
    "            y=-y\n",
    "        if(abs(y)>=2**31):\n",
    "            y=0\n",
    "        return y\n",
    "        \"\"\"\n",
    "        :type x: int\n",
    "        :rtype: int\n",
    "        \"\"\""
   ]
  }
 ],
 "metadata": {
  "kernelspec": {
   "display_name": "Python 3",
   "language": "python",
   "name": "python3"
  },
  "language_info": {
   "codemirror_mode": {
    "name": "ipython",
    "version": 3
   },
   "file_extension": ".py",
   "mimetype": "text/x-python",
   "name": "python",
   "nbconvert_exporter": "python",
   "pygments_lexer": "ipython3",
   "version": "3.8.3"
  }
 },
 "nbformat": 4,
 "nbformat_minor": 4
}
